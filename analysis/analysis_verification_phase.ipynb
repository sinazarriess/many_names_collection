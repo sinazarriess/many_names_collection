{
 "cells": [
  {
   "cell_type": "markdown",
   "metadata": {},
   "source": [
    "# Plan for analysis\n",
    "\n",
    "Note: for ACL, what is mostly relevant is point 3. Focusing on that for the moment.\n",
    "\n",
    "1. Name adequacy:\n",
    " - distribution of adequacy of all names (all data, not per image). **DONE**\n",
    " - proportion of names/image that are adequate (boxplot?). Needs adequacy threshold (see variable adequacy_threshold)). \n",
    " \n",
    "2. Region ambiguity:\n",
    " - distribution of number of clusters per image (how many images have 1, 2, ... n clusters). Barplot (ordinal variable). \n",
    " - distribution of response frequency per cluster (percentage of responses in cluster 0, 1, ... m). Boxplots? Or barplot with standard deviation bars?\n",
    " - distribution of total name frequency for canonical object (proportion of responses that go to the most frequent object, that is, cluster 0). (Expectation: mostly very high). \n",
    " - analyze which cases are errors, which are bounding box ambiguity. \n",
    "\n",
    "==> estimate the n of images for which we have enough naming data (something like at least x adequate names for cluster 0?). \n",
    "\n",
    "3. For canonical object (cluster 0):\n",
    " - distribution of raw number of adequate names (needs threshold to determining whether name is adequate; see variable adequacy_threshold).  **DONE** \n",
    "     ==> Problem: not all canonical objects have same number of adequate names. Make number of adequate names relative? (TODO)\n",
    " - distribution of the frequency of the entry-level name in the canonical object.  **DONE**\n",
    " - how often the entry-level name coincides with the VG name (see if it's very different from the number we obtained before verification phase). **DONE**\n",
    " \n",
    "4. (Do something with remaining clusters with adequate names, and other types of analyses)"
   ]
  },
  {
   "cell_type": "code",
   "execution_count": 14,
   "metadata": {},
   "outputs": [],
   "source": [
    "# global variables\n",
    "\n",
    "adequacy_threshold=0.5"
   ]
  },
  {
   "cell_type": "code",
   "execution_count": 45,
   "metadata": {},
   "outputs": [],
   "source": [
    "import os\n",
    "import sys\n",
    "import pandas as pd\n",
    "import matplotlib.pyplot as plt\n",
    "import numpy as np\n",
    "from ast import literal_eval\n",
    "from collections import Counter"
   ]
  },
  {
   "cell_type": "code",
   "execution_count": 100,
   "metadata": {},
   "outputs": [],
   "source": [
    "df=pd.read_csv('../proc_data_phase0/verification/all_responses_round0-3_verified.csv', sep=\"\\t\")\n",
    "#df=pd.read_csv('kk.csv', sep=\"\\t\")\n",
    "df=df.drop(['responses_r0','opt-outs','top_response_domain_r0','responses_domains_r0',\n",
    "            'sample_type','all_responses','clean','canon','spellchecked',\n",
    "            'responses_domains_r1', 'responses_r1', 'top_response_domain_r1',\n",
    "       'responses_domains_r2', 'responses_r2', 'top_response_domain_r2',\n",
    "       'responses_domains_r3', 'responses_r3', 'top_response_domain_r3'], axis=1)\n",
    "df.head()\n",
    "total_objects=len(df)"
   ]
  },
  {
   "cell_type": "code",
   "execution_count": 104,
   "metadata": {},
   "outputs": [],
   "source": [
    "# get necessary data from csv file\n",
    "adequacies=[] # number of adequate names (total)\n",
    "tot_names=0; tot_ad=0 # total n of names; n of -adequate names (see threshold above)\n",
    "list_n_ad_names=[] # number of adequate names per canonical object\n",
    "list_entry_names=[] # entry names for each canonical object (cluster 0)\n",
    "list_freqs_entry_name=[] # entry names for each canonical object (cluster 0)\n",
    "no_entry_lev=0\n",
    "for row in df.itertuples():\n",
    "    name_freqs=eval(row.spellchecked_min2)\n",
    "    #print(name_freqs)\n",
    "    # find entry-level name; this should be done for the canonical object,\n",
    "    # but I can't recover the info from the verified column (name data in a dictionary),\n",
    "    # so I use the one from all data and check if the entry level name form those data is in cluster 0\n",
    "    # there are only 700 imgs where the most frequent name is not in cluster 0; TODO: check these cases; mend this\n",
    "    entry_name,entry_freq=name_freqs.most_common(1)[0] # returns tuple, e.g. ('man',11) # problem: what if there's a tie of most common names? (happens, but rarely)\n",
    "    d = literal_eval(row.verified) # dictionary with verification data\n",
    "    n_ad_names_img=0\n",
    "    freqs_canon_names=1 # *** SMOOTHING FOR THE CASE WHERE THERE ARE 0 CANONICAL NAMES; TO MEND IN FUTURE ***\n",
    "    entry_name_in_cluster0=False\n",
    "    for name in d.keys(): # each name for this object\n",
    "        #print(\"\\t\",name)\n",
    "        tot_names+=1\n",
    "        values_dict = d[name]\n",
    "        ad=values_dict['adequacy']\n",
    "        adequacies.append(ad); \n",
    "        if ad > adequacy_threshold:\n",
    "            tot_ad += 1\n",
    "            if values_dict['cluster_id']==0: # labels canonical object\n",
    "                n_ad_names_img += 1 # number of adequate names for that image\n",
    "                freqs_canon_names += name_freqs[name] # total frequency of canonical names\n",
    "                if name==entry_name: entry_name_in_cluster0=True\n",
    "\n",
    "#    print(\"\\t\",freqs_canon_names)\n",
    "    if entry_name_in_cluster0==False: entry_name,entry_freq=None,0 ### TO BE MENDED IN THE FUTURE (see comment 'find entry-level name' above)\n",
    "    list_n_ad_names.append(n_ad_names_img)\n",
    "    list_entry_names.append(entry_name)\n",
    "    freq_entry_name=(entry_freq+1)/freqs_canon_names # *** SMOOTHING -- TO MEND ***\n",
    "    list_freqs_entry_name.append(freq_entry_name)\n",
    "\n",
    "df['n_canonical_names']=list_n_ad_names\n",
    "df['entry_name']=list_entry_names\n",
    "df['entry_freq']=list_freqs_entry_name\n"
   ]
  },
  {
   "cell_type": "code",
   "execution_count": 18,
   "metadata": {},
   "outputs": [
    {
     "data": {
      "image/png": "[encoded data removed]",
      "text/plain": [
       "<Figure size 432x288 with 1 Axes>"
      ]
     },
     "metadata": {
      "needs_background": "light"
     },
     "output_type": "display_data"
    }
   ],
   "source": [
    "# Histogram for name adequacies\n",
    "adequacies=np.array(adequacies)\n",
    "plt.hist(x=adequacies)\n",
    "plt.grid(axis='y', alpha=0.75)\n",
    "plt.title('Adequacies')\n",
    "to_write='total names: {}'.format(tot_names)\n",
    "plt.text(-0.03,23000,to_write,fontsize='large')\n",
    "to_write='names with adequacy > {}: {:.1%}'.format(adequacy_threshold, tot_ad/tot_names)\n",
    "plt.text(-0.03,15000,to_write,fontsize='large')\n",
    "plt.show()\n",
    "plt.close()"
   ]
  },
  {
   "cell_type": "code",
   "execution_count": 32,
   "metadata": {},
   "outputs": [
    {
     "data": {
      "image/png": "[encoded data removed]",
      "text/plain": [
       "<Figure size 432x288 with 1 Axes>"
      ]
     },
     "metadata": {
      "needs_background": "light"
     },
     "output_type": "display_data"
    },
    {
     "data": {
      "text/plain": [
       "Index(['vg_img_id', 'cat', 'synset', 'vg_obj_name', 'vg_domain', 'url',\n",
       "       'vg_object_id', 'spellchecked_min2', 'verified', 'n_canonical_names',\n",
       "       'entry_name', 'entry_freq'],\n",
       "      dtype='object')"
      ]
     },
     "execution_count": 32,
     "metadata": {},
     "output_type": "execute_result"
    }
   ],
   "source": [
    "ndist = df.n_canonical_names.value_counts()\n",
    "ndist.plot(kind='bar',rot=0,title=\"Distribution of number of names per canonical object\")\n",
    "plt.show()\n",
    "plt.close()\n",
    "df.columns"
   ]
  },
  {
   "cell_type": "code",
   "execution_count": 115,
   "metadata": {},
   "outputs": [
    {
     "data": {
      "image/png": "[encoded data removed]",
      "text/plain": [
       "<Figure size 432x288 with 1 Axes>"
      ]
     },
     "metadata": {
      "needs_background": "light"
     },
     "output_type": "display_data"
    }
   ],
   "source": [
    "# Distribution of proportion (entry level name / all names), for canonical object\n",
    "weights = (np.ones_like(df.entry_freq)/float(total_objects))*100\n",
    "plt.hist(df.entry_freq, weights=weights)\n",
    "plt.set_ylabel=\"Percentage of all images\"\n",
    "t=len(df[df.entry_freq > 0.5])\n",
    "to_write='entry-level name > 0.5 for {:.1%} objects'.format(t/total_objects)\n",
    "plt.text(0,25,to_write,fontsize='x-large')\n",
    "plt.show()\n",
    "plt.close()"
   ]
  },
  {
   "cell_type": "code",
   "execution_count": 21,
   "metadata": {},
   "outputs": [
    {
     "name": "stdout",
     "output_type": "stream",
     "text": [
      "Objects for which manynames entry level name coincides with VG name: 18239 (72.0%)\n"
     ]
    }
   ],
   "source": [
    "mismatch=len(df[df.entry_name == df.vg_obj_name])\n",
    "print('Objects for which manynames entry level name coincides with VG name: {} ({:.1%})'.format(mismatch, mismatch/total_objects))\n",
    "# slightly lower; could be due to the 700 cases that were assigned 'None' above?"
   ]
  },
  {
   "cell_type": "code",
   "execution_count": 106,
   "metadata": {},
   "outputs": [
    {
     "name": "stdout",
     "output_type": "stream",
     "text": [
      "415\n",
      "woman         1420\n",
      "man           1359\n",
      "train         1128\n",
      "shirt          991\n",
      "giraffe        916\n",
      "airplane       880\n",
      "bed            877\n",
      "horse          823\n",
      "table          768\n",
      "cat            759\n",
      "bench          693\n",
      "desk           680\n",
      "dog            674\n",
      "pizza          615\n",
      "jacket         573\n",
      "motorcycle     567\n",
      "truck          523\n",
      "boy            523\n",
      "couch          490\n",
      "boat           469\n",
      "Name: entry_name, dtype: int64\n",
      "floor              79\n",
      "bathtub            73\n",
      "skater             73\n",
      "van                69\n",
      "knife              68\n",
      "bread              63\n",
      "salad              59\n",
      "tie                58\n",
      "surfer             56\n",
      "fork               48\n",
      "bottle             48\n",
      "sink               44\n",
      "tent               44\n",
      "cup                43\n",
      "snowboarder        42\n",
      "person             38\n",
      "blender            36\n",
      "catcher            36\n",
      "flower             35\n",
      "baseball player    32\n",
      "Name: entry_name, dtype: int64\n",
      "sweater          12\n",
      "sofa             11\n",
      "duck             11\n",
      "mug              11\n",
      "robe             11\n",
      "restaurant       10\n",
      "kite             10\n",
      "sauce            10\n",
      "burger           10\n",
      "fruit            10\n",
      "vest              9\n",
      "soccer player     9\n",
      "window            9\n",
      "plate             9\n",
      "baby              9\n",
      "broccoli          9\n",
      "owl               8\n",
      "bear              8\n",
      "toy               8\n",
      "jar               8\n",
      "Name: entry_name, dtype: int64\n",
      "bunk bed     1\n",
      "game         1\n",
      "mustard      1\n",
      "juicer       1\n",
      "frisbee      1\n",
      "glasses      1\n",
      "chicken      1\n",
      "stand        1\n",
      "toaster      1\n",
      "pillow       1\n",
      "cucumber     1\n",
      "goal         1\n",
      "trough       1\n",
      "biscuit      1\n",
      "crust        1\n",
      "stump        1\n",
      "shark        1\n",
      "marina       1\n",
      "oatmeal      1\n",
      "vegetable    1\n",
      "Name: entry_name, dtype: int64\n"
     ]
    }
   ],
   "source": [
    "# Statistics wrt entry-level of object class != entry-level of its instances\n",
    "# (i.e., entry- levels cannot be derived on class-level)\n",
    "\n",
    "names_counts=df.entry_name.value_counts()\n",
    "print(len(names_counts))\n",
    "print(names_counts[:20])\n",
    "print(names_counts[50:70])\n",
    "print(names_counts[100:120])\n",
    "print(names_counts[300:320])\n"
   ]
  },
  {
   "cell_type": "code",
   "execution_count": 101,
   "metadata": {},
   "outputs": [],
   "source": [
    "# number of objects per image (in a different cell cause the code above was getting too messy)\n",
    "list_n_clusterximg=[] # number of clusters for each image\n",
    "for row in df.itertuples():\n",
    "    d = literal_eval(row.verified)\n",
    "    s=set()\n",
    "    for name in d.keys(): # each name for this object\n",
    "        values_dict = d[name]\n",
    "        s.add(values_dict['cluster_id'])\n",
    "    nclus=len(s)\n",
    "    list_n_clusterximg.append(nclus)\n",
    "\n",
    "df['n_clusters']=list_n_clusterximg\n"
   ]
  },
  {
   "cell_type": "code",
   "execution_count": 119,
   "metadata": {},
   "outputs": [
    {
     "data": {
      "image/png": "[encoded data removed]",
      "text/plain": [
       "<Figure size 432x288 with 1 Axes>"
      ]
     },
     "metadata": {
      "needs_background": "light"
     },
     "output_type": "display_data"
    },
    {
     "ename": "TypeError",
     "evalue": "text() missing 2 required positional arguments: 'y' and 's'",
     "output_type": "error",
     "traceback": [
      "\u001b[0;31m---------------------------------------------------------------------------\u001b[0m",
      "\u001b[0;31mTypeError\u001b[0m                                 Traceback (most recent call last)",
      "\u001b[0;32m<ipython-input-119-206d0b81bce1>\u001b[0m in \u001b[0;36m<module>\u001b[0;34m\u001b[0m\n\u001b[1;32m      9\u001b[0m \u001b[0mt\u001b[0m\u001b[0;34m=\u001b[0m\u001b[0mlen\u001b[0m\u001b[0;34m(\u001b[0m\u001b[0mdf\u001b[0m\u001b[0;34m[\u001b[0m\u001b[0mdf\u001b[0m\u001b[0;34m.\u001b[0m\u001b[0mn_clusters\u001b[0m \u001b[0;34m>\u001b[0m \u001b[0;36m1\u001b[0m\u001b[0;34m]\u001b[0m\u001b[0;34m)\u001b[0m\u001b[0;34m\u001b[0m\u001b[0;34m\u001b[0m\u001b[0m\n\u001b[1;32m     10\u001b[0m \u001b[0mto_write\u001b[0m\u001b[0;34m=\u001b[0m\u001b[0;34m'{:.1%} of images have more than one cluster'\u001b[0m\u001b[0;34m.\u001b[0m\u001b[0mformat\u001b[0m\u001b[0;34m(\u001b[0m\u001b[0mt\u001b[0m\u001b[0;34m/\u001b[0m\u001b[0mtotal_objects\u001b[0m\u001b[0;34m)\u001b[0m\u001b[0;34m\u001b[0m\u001b[0;34m\u001b[0m\u001b[0m\n\u001b[0;32m---> 11\u001b[0;31m \u001b[0mplt\u001b[0m\u001b[0;34m.\u001b[0m\u001b[0mtext\u001b[0m\u001b[0;34m(\u001b[0m\u001b[0mto_write\u001b[0m\u001b[0;34m,\u001b[0m\u001b[0mxy\u001b[0m\u001b[0;34m=\u001b[0m\u001b[0;34m(\u001b[0m\u001b[0;36m.5\u001b[0m\u001b[0;34m,\u001b[0m\u001b[0;36m.7\u001b[0m\u001b[0;34m)\u001b[0m\u001b[0;34m,\u001b[0m\u001b[0mxycoords\u001b[0m\u001b[0;34m=\u001b[0m\u001b[0;34m'figure fraction'\u001b[0m\u001b[0;34m,\u001b[0m\u001b[0mfontsize\u001b[0m\u001b[0;34m=\u001b[0m\u001b[0;34m'x-large'\u001b[0m\u001b[0;34m)\u001b[0m \u001b[0;31m# gives me trouble\u001b[0m\u001b[0;34m\u001b[0m\u001b[0;34m\u001b[0m\u001b[0m\n\u001b[0m\u001b[1;32m     12\u001b[0m \u001b[0mprint\u001b[0m\u001b[0;34m(\u001b[0m\u001b[0mto_write\u001b[0m\u001b[0;34m)\u001b[0m\u001b[0;34m\u001b[0m\u001b[0;34m\u001b[0m\u001b[0m\n",
      "\u001b[0;31mTypeError\u001b[0m: text() missing 2 required positional arguments: 'y' and 's'"
     ]
    }
   ],
   "source": [
    "# import matplotlib.ticker as mtick\n",
    "cldist = df.n_clusters.value_counts()\n",
    "cldist.plot(kind='bar',rot=0,title=\"Distribution of number of objects per image\")\n",
    "# tried to show percentages in y axis, and failed... :/\n",
    "# ax.yaxis.set_major_formatter(mtick.PercentFormatter())\n",
    "plt.show()\n",
    "plt.close()\n",
    "\n",
    "t=len(df[df.n_clusters > 1])\n",
    "to_write='{:.1%} of images have more than one cluster'.format(t/total_objects)\n",
    "plt.text(to_write,xy=(.5,.7),xycoords='figure fraction',fontsize='x-large') # gives me trouble\n",
    "print(to_write)"
   ]
  },
  {
   "cell_type": "code",
   "execution_count": null,
   "metadata": {},
   "outputs": [],
   "source": []
  }
 ],
 "metadata": {
  "kernelspec": {
   "display_name": "Python 3",
   "language": "python",
   "name": "python3"
  },
  "language_info": {
   "codemirror_mode": {
    "name": "ipython",
    "version": 3
   },
   "file_extension": ".py",
   "mimetype": "text/x-python",
   "name": "python",
   "nbconvert_exporter": "python",
   "pygments_lexer": "ipython3",
   "version": "3.7.4"
  }
 },
 "nbformat": 4,
 "nbformat_minor": 2
}
