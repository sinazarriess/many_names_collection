{
 "cells": [
  {
   "cell_type": "markdown",
   "metadata": {},
   "source": [
    "# Plan for analysis\n",
    "\n",
    "Note: for ACL, what is most relevant point is 3. Focusing on that for the moment.\n",
    "\n",
    "1. Name adequacy:\n",
    " - distribution of adequacy of all names (all data, not per image). **DONE**\n",
    " - proportion of names/image that are adequate (boxplot?). Needs adequacy threshold (see variable adequacy_threshold)). \n",
    " \n",
    "2. Region ambiguity:\n",
    " - distribution of number of clusters per image (how many images have 1, 2, ... n clusters). Barplot (ordinal variable). \n",
    " - distribution of response frequency per cluster (percentage of responses in cluster 0, 1, ... m). Boxplots? Or barplot with standard deviation bars?\n",
    " - distribution of total name frequency for canonical object (proportion of responses that go to the most frequent object, that is, cluster 0). (Expectation: mostly very high). \n",
    " - analyze which cases are errors, which are bounding box ambiguity. \n",
    "\n",
    "==> estimate the n of images for which we have enough naming data (something like at least x adequate names for cluster 0?). \n",
    "\n",
    "3. For canonical object (**cluster 0**):\n",
    " - distribution of raw number of adequate names (needs threshold to determining whether name is adequate; see variable adequacy_threshold).  **DONE** \n",
    "     ==> Problem: not all canonical objects have same number of adequate names. Make number of adequate names relative? (TODO)\n",
    " - distribution of the frequency of the entry-level name in the canonical object.  **DONE**\n",
    " - how often the entry-level name coincides with the VG name (see if it's very different from the number we obtained before verification phase). **DONE**\n",
    " - Stability of most frequent name:\n",
    "     - attempt 1 (check rounds 0, 1, 2, 3 against each other) **DONE**\n",
    "     - attempt 2 (proper sampling) -- TO DO\n",
    "\n",
    "5. (Do something with remaining clusters with adequate names, and other types of analyses)"
   ]
  },
  {
   "cell_type": "code",
   "execution_count": 5,
   "metadata": {},
   "outputs": [],
   "source": [
    "# global variables\n",
    "adequacy_threshold=0.5"
   ]
  },
  {
   "cell_type": "code",
   "execution_count": 8,
   "metadata": {},
   "outputs": [],
   "source": [
    "import os\n",
    "import sys\n",
    "import pandas as pd\n",
    "import matplotlib.pyplot as plt\n",
    "import numpy as np\n",
    "from ast import literal_eval\n",
    "from collections import Counter\n",
    "import itertools\n",
    "\n",
    "pd.set_option('display.max_colwidth', 180)\n",
    "pd.set_option('expand_frame_repr', False)"
   ]
  },
  {
   "cell_type": "code",
   "execution_count": 9,
   "metadata": {},
   "outputs": [
    {
     "name": "stdout",
     "output_type": "stream",
     "text": [
      "Total objects:  25315\n"
     ]
    },
    {
     "data": {
      "text/plain": [
       "Index(['vg_img_id', 'cat', 'synset', 'vg_obj_name', 'responses_r0', 'opt-outs',\n",
       "       'vg_domain', 'top_response_domain_r0', 'responses_domains_r0', 'url',\n",
       "       'sample_type', 'responses_domains_r1', 'responses_r1',\n",
       "       'top_response_domain_r1', 'responses_domains_r2', 'responses_r2',\n",
       "       'top_response_domain_r2', 'responses_domains_r3', 'responses_r3',\n",
       "       'top_response_domain_r3', 'vg_object_id', 'all_responses', 'clean',\n",
       "       'canon', 'spellchecked', 'spellchecked_min2', 'verified'],\n",
       "      dtype='object')"
      ]
     },
     "execution_count": 9,
     "metadata": {},
     "output_type": "execute_result"
    }
   ],
   "source": [
    "#csvfile='../proc_data_phase0/verification/all_responses_round0-3_verified.csv'\n",
    "#csvfile='kk.csv'\n",
    "csvfile = '../proc_data_phase0/verification/all_responses_round0-3_verified_entry-level-focus.csv'\n",
    "df = pd.read_csv(csvfile, \n",
    "    converters={'responses_r0': eval, 'responses_r1': eval, 'responses_r2': eval, 'responses_r3': eval},\n",
    "    sep=\"\\t\")\n",
    "\n",
    "total_objects=len(df)\n",
    "print(\"Total objects: \", total_objects)\n",
    "df.columns"
   ]
  },
  {
   "cell_type": "code",
   "execution_count": 10,
   "metadata": {},
   "outputs": [],
   "source": [
    "# get necessary data from csv file\n",
    "adequacies=[] # number of adequate names (total)\n",
    "tot_names=0; tot_ad=0 # total n of names; n of -adequate names (see threshold above)\n",
    "list_n_ad_names=[] # number of adequate names per canonical object\n",
    "list_entry_names=[] # entry names for each canonical object (cluster 0)\n",
    "list_freqs_entry_name=[] # entry names for each canonical object (cluster 0)\n",
    "no_entry_lev=0\n",
    "for row in df.itertuples():\n",
    "    name_freqs=eval(row.spellchecked_min2)\n",
    "    #print(name_freqs)\n",
    "    # find entry-level name; this should be done for the canonical object,\n",
    "    # but I can't recover the info from the verified column (name data in a dictionary),\n",
    "    # so I use the one from all data and check if the entry level name form those data is in cluster 0\n",
    "    # there are only 700 imgs where the most frequent name is not in cluster 0; TODO: check these cases; mend this\n",
    "    entry_name,entry_freq=name_freqs.most_common(1)[0] # returns tuple, e.g. ('man',11) # problem: what if there's a tie of most common names? (happens, but rarely)\n",
    "    d = literal_eval(row.verified) # dictionary with verification data\n",
    "    n_ad_names_img=0\n",
    "    freqs_canon_names=1 # *** SMOOTHING FOR THE CASE WHERE THERE ARE 0 CANONICAL NAMES; TO MEND IN FUTURE ***\n",
    "    entry_name_in_cluster0=False\n",
    "    for name in d.keys(): # each name for this object\n",
    "        #print(\"\\t\",name)\n",
    "        tot_names+=1\n",
    "        values_dict = d[name]\n",
    "        ad=values_dict['adequacy']\n",
    "        adequacies.append(ad); \n",
    "        if ad > adequacy_threshold:\n",
    "            tot_ad += 1\n",
    "            if values_dict['cluster_id']==0: # labels canonical object\n",
    "                n_ad_names_img += 1 # number of adequate names for that image\n",
    "                freqs_canon_names += name_freqs[name] # total frequency of canonical names\n",
    "                if name==entry_name: entry_name_in_cluster0=True\n",
    "\n",
    "#    print(\"\\t\",freqs_canon_names)\n",
    "    if entry_name_in_cluster0==False: entry_name,entry_freq=None,0 ### TO BE MENDED IN THE FUTURE (see comment 'find entry-level name' above)\n",
    "    list_n_ad_names.append(n_ad_names_img)\n",
    "    list_entry_names.append(entry_name)\n",
    "    freq_entry_name=(entry_freq+1)/freqs_canon_names # *** SMOOTHING -- TO MEND ***\n",
    "    list_freqs_entry_name.append(freq_entry_name)\n",
    "\n",
    "df['n_canonical_names']=list_n_ad_names\n",
    "df['entry_name']=list_entry_names\n",
    "df['entry_freq']=list_freqs_entry_name"
   ]
  },
  {
   "cell_type": "code",
   "execution_count": 11,
   "metadata": {
    "scrolled": true
   },
   "outputs": [
    {
     "data": {
      "image/png": "[encoded data removed]",
      "text/plain": [
       "<Figure size 432x288 with 1 Axes>"
      ]
     },
     "metadata": {
      "needs_background": "light"
     },
     "output_type": "display_data"
    }
   ],
   "source": [
    "# Histogram for name adequacies\n",
    "adequacies=np.array(adequacies)\n",
    "plt.hist(x=adequacies)\n",
    "plt.grid(axis='y', alpha=0.75)\n",
    "plt.title('Adequacies')\n",
    "to_write='total names: {}'.format(tot_names)\n",
    "plt.text(-0.03,23000,to_write,fontsize='large')\n",
    "to_write='names with adequacy > {}: {:.1%}'.format(adequacy_threshold, tot_ad/tot_names)\n",
    "plt.text(-0.03,15000,to_write,fontsize='large')\n",
    "plt.show()\n",
    "plt.close()"
   ]
  },
  {
   "cell_type": "code",
   "execution_count": 12,
   "metadata": {},
   "outputs": [
    {
     "data": {
      "image/png": "[encoded data removed]",
      "text/plain": [
       "<Figure size 432x288 with 1 Axes>"
      ]
     },
     "metadata": {
      "needs_background": "light"
     },
     "output_type": "display_data"
    },
    {
     "data": {
      "text/plain": [
       "Index(['vg_img_id', 'cat', 'synset', 'vg_obj_name', 'responses_r0', 'opt-outs',\n",
       "       'vg_domain', 'top_response_domain_r0', 'responses_domains_r0', 'url',\n",
       "       'sample_type', 'responses_domains_r1', 'responses_r1',\n",
       "       'top_response_domain_r1', 'responses_domains_r2', 'responses_r2',\n",
       "       'top_response_domain_r2', 'responses_domains_r3', 'responses_r3',\n",
       "       'top_response_domain_r3', 'vg_object_id', 'all_responses', 'clean',\n",
       "       'canon', 'spellchecked', 'spellchecked_min2', 'verified',\n",
       "       'n_canonical_names', 'entry_name', 'entry_freq'],\n",
       "      dtype='object')"
      ]
     },
     "execution_count": 12,
     "metadata": {},
     "output_type": "execute_result"
    }
   ],
   "source": [
    "ndist = df.n_canonical_names.value_counts()\n",
    "# canonical object = object most referred to (cluster 0)\n",
    "ndist.plot(kind='bar',rot=0,title=\"Distribution of number of names per canonical object\")\n",
    "plt.show()\n",
    "plt.close()\n",
    "df.columns"
   ]
  },
  {
   "cell_type": "code",
   "execution_count": 13,
   "metadata": {},
   "outputs": [
    {
     "data": {
      "image/png": "[encoded data removed]",
      "text/plain": [
       "<Figure size 432x288 with 1 Axes>"
      ]
     },
     "metadata": {
      "needs_background": "light"
     },
     "output_type": "display_data"
    }
   ],
   "source": [
    "# Distribution of proportion (entry level name / all names), for canonical object\n",
    "#weights = (np.ones_like(df.entry_freq)/float(total_objects))*100\n",
    "#plt.hist(df.entry_freq, weights=weights)\n",
    "plt.hist(df.entry_freq)\n",
    "plt.grid(axis='y', alpha=0.75)\n",
    "plt.set_ylabel=\"Percentage of all images\"\n",
    "t=len(df[df.entry_freq > 0.5])\n",
    "to_write='entry-level name > 0.5 for {:.1%} objects'.format(t/total_objects)\n",
    "plt.text(0,5000,to_write,fontsize='x-large')\n",
    "plt.show()\n",
    "plt.close()"
   ]
  },
  {
   "cell_type": "code",
   "execution_count": 14,
   "metadata": {},
   "outputs": [
    {
     "name": "stdout",
     "output_type": "stream",
     "text": [
      "Objects for which manynames entry level name coincides with VG name: 18239 (72.0%)\n"
     ]
    }
   ],
   "source": [
    "mismatch=len(df[df.entry_name == df.vg_obj_name])\n",
    "print('Objects for which manynames entry level name coincides with VG name: {} ({:.1%})'.format(mismatch, mismatch/total_objects))\n",
    "# slightly lower; could be due to the 700 cases that were assigned 'None' above?"
   ]
  },
  {
   "cell_type": "code",
   "execution_count": 19,
   "metadata": {},
   "outputs": [
    {
     "name": "stdout",
     "output_type": "stream",
     "text": [
      "Number of entry-level names: \n",
      "415\n"
     ]
    }
   ],
   "source": [
    "# Statistics wrt entry-level of object class != entry-level of its instances\n",
    "# (i.e., entry- levels cannot be derived on class-level)\n",
    "\n",
    "names_counts=df.entry_name.value_counts()\n",
    "print(\"Number of entry-level names: \")\n",
    "print(len(names_counts))\n",
    "#print(names_counts[:20])\n",
    "#print(names_counts[50:70])\n",
    "#print(names_counts[100:120])\n",
    "#print(names_counts[300:320])\n"
   ]
  },
  {
   "cell_type": "code",
   "execution_count": 16,
   "metadata": {},
   "outputs": [],
   "source": [
    "# number of objects per image (in a different cell cause the code above was getting too messy)\n",
    "list_n_clusterximg=[] # number of clusters for each image\n",
    "for row in df.itertuples():\n",
    "    d = literal_eval(row.verified)\n",
    "    s=set()\n",
    "    for name in d.keys(): # each name for this object\n",
    "        values_dict = d[name]\n",
    "        s.add(values_dict['cluster_id'])\n",
    "    nclus=len(s)\n",
    "    list_n_clusterximg.append(nclus)\n",
    "\n",
    "df['n_clusters']=list_n_clusterximg\n"
   ]
  },
  {
   "cell_type": "code",
   "execution_count": 17,
   "metadata": {},
   "outputs": [
    {
     "data": {
      "image/png": "[encoded data removed]",
      "text/plain": [
       "<Figure size 432x288 with 1 Axes>"
      ]
     },
     "metadata": {
      "needs_background": "light"
     },
     "output_type": "display_data"
    },
    {
     "name": "stdout",
     "output_type": "stream",
     "text": [
      "43.1% of images have more than one cluster\n"
     ]
    }
   ],
   "source": [
    "# import matplotlib.ticker as mtick\n",
    "cldist = df.n_clusters.value_counts()\n",
    "cldist.plot(kind='bar',rot=0,title=\"Distribution of number of objects per image\")\n",
    "# tried to show percentages in y axis, and failed... :/\n",
    "# ax.yaxis.set_major_formatter(mtick.PercentFormatter())\n",
    "plt.show()\n",
    "plt.close()\n",
    "\n",
    "t=len(df[df.n_clusters > 1])\n",
    "to_write='{:.1%} of images have more than one cluster'.format(t/total_objects)\n",
    "#plt.text(to_write,xy=(.5,.7),xycoords='figure fraction',fontsize='x-large') # gives me trouble\n",
    "print(to_write)"
   ]
  },
  {
   "cell_type": "markdown",
   "metadata": {},
   "source": [
    "# Stability of most frequent names\n",
    "## Attempt 1:\n",
    "As Carina suggested (see pdf). The average change in most frequent name across rounds is 20% (SD 2.4%) -- i.e. even having 9 names only assures you to get the entry-level name for 80% of the objects on average. The data would be more compelling if we did proper sampling (see Attempt 2)."
   ]
  },
  {
   "cell_type": "code",
   "execution_count": 18,
   "metadata": {},
   "outputs": [
    {
     "name": "stdout",
     "output_type": "stream",
     "text": [
      "names that change in top_name_r0 wrt top_name_r1: 20.6%\n",
      "names that change in top_name_r0 wrt top_name_r2: 21.6%\n",
      "names that change in top_name_r0 wrt top_name_r3: 23.4%\n",
      "names that change in top_name_r1 wrt top_name_r2: 16.6%\n",
      "names that change in top_name_r1 wrt top_name_r3: 18.5%\n",
      "names that change in top_name_r2 wrt top_name_r3: 19.4%\n",
      "average: 20.0%, SD: 2.4%\n"
     ]
    }
   ],
   "source": [
    "r=['responses_r0','responses_r1','responses_r2','responses_r3']\n",
    "t=['top_name_r0','top_name_r1','top_name_r2','top_name_r3']\n",
    "for rcolumn, tcolumn in zip(r,t):\n",
    "    df[tcolumn]=df[rcolumn].apply(lambda x: max(x, key=x.get))\n",
    "\n",
    "changes=[]\n",
    "for t1, t2 in itertools.combinations(t,2):\n",
    "#    print(t1, t2)\n",
    "    different=df[df[t1] != df[t2]]\n",
    "    props_change=len(different)/total_objects\n",
    "    changes.append(props_change)\n",
    "    out='names that change in {} wrt {}: {:.1%}'.format(t1, t2, props_change)\n",
    "    print(out)\n",
    "    \n",
    "c=pd.Series(changes)\n",
    "out='average: {:.1%}, SD: {:.1%}'.format(c.mean(), c.std())\n",
    "print(out)"
   ]
  },
  {
   "cell_type": "markdown",
   "metadata": {},
   "source": [
    "## Attempt 2:\n",
    "**Q**: how many annotations do we need to get the entry-level name? (entry-level = most frequent name in all the responses)\n",
    "\n",
    "Method: \n",
    "- take entry-level name to be the top name in the 36 annotations (there are some ties; solve)\n",
    "- remove names w adequacy < some_threshold (remove trolling from the data)\n",
    "- remove images where responses for cluster 0 are too infrequent (referential uncertainty). Use 20 or 25 as minimum frequency?\n",
    "- for the remaining data, do for 25-30 rounds:\n",
    "    - for each image, for cluster 0:\n",
    "        - sample one of the combinations of n elements, where n \\in {1,36}\n",
    "        itertools.combinations(name_list,n) # or something taking a dictionary and weighting it by value (see format column spellchecked)\n",
    "        - compute most frequent name in that combination (for ties, choose randomly)\n",
    "    - check percentage of cases where most frequent name at n == most frequent name at 36\n",
    "- plot barplot with averages and error bars of these percentages for n \\in {1,35}"
   ]
  },
  {
   "cell_type": "code",
   "execution_count": null,
   "metadata": {},
   "outputs": [],
   "source": []
  }
 ],
 "metadata": {
  "kernelspec": {
   "display_name": "Python 3",
   "language": "python",
   "name": "python3"
  },
  "language_info": {
   "codemirror_mode": {
    "name": "ipython",
    "version": 3
   },
   "file_extension": ".py",
   "mimetype": "text/x-python",
   "name": "python",
   "nbconvert_exporter": "python",
   "pygments_lexer": "ipython3",
   "version": "3.7.3"
  }
 },
 "nbformat": 4,
 "nbformat_minor": 2
}
